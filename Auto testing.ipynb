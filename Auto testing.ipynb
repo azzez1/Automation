{
 "metadata": {
  "language_info": {
   "codemirror_mode": {
    "name": "ipython",
    "version": 3
   },
   "file_extension": ".py",
   "mimetype": "text/x-python",
   "name": "python",
   "nbconvert_exporter": "python",
   "pygments_lexer": "ipython3",
   "version": "3.8.5"
  },
  "orig_nbformat": 2,
  "kernelspec": {
   "name": "python385jvsc74a57bd057f11aeb1dcaced031ce0a03bd916c082c2d8b27dffc26ca52ba74256b815c23",
   "display_name": "Python 3.8.5 64-bit ('base': conda)"
  }
 },
 "nbformat": 4,
 "nbformat_minor": 2,
 "cells": [
  {
   "cell_type": "code",
   "execution_count": 3,
   "metadata": {},
   "outputs": [
    {
     "output_type": "stream",
     "name": "stdout",
     "text": [
      "Requirement already up-to-date: selenium in c:\\users\\asus\\miniconda3\\lib\\site-packages (3.141.0)\nRequirement already satisfied, skipping upgrade: urllib3 in c:\\users\\asus\\miniconda3\\lib\\site-packages (from selenium) (1.25.11)\nNote: you may need to restart the kernel to use updated packages.\n"
     ]
    }
   ],
   "source": [
    "pip install -U selenium"
   ]
  },
  {
   "cell_type": "code",
   "execution_count": 4,
   "metadata": {},
   "outputs": [
    {
     "output_type": "stream",
     "name": "stderr",
     "text": [
      "<ipython-input-4-425834f3453a>:12: DeprecationWarning: use options instead of chrome_options\n",
      "  driver = webdriver.Chrome(executable_path=path,chrome_options=chrome_options)\n",
      "Boom\n"
     ]
    }
   ],
   "source": [
    " #TASK1  facebook login and logout process\n",
    "\n",
    "from selenium import webdriver\n",
    "from selenium.webdriver.common.alert import Alert\n",
    "from selenium.webdriver.chrome.options import Options\n",
    "from selenium.webdriver.common.by import By\n",
    "import time\n",
    "\n",
    "path = \"C:\\Program Files (x86)\\chromedriver.exe\"\n",
    "\n",
    "chrome_options = Options()\n",
    "chrome_options.add_argument(\"--disable-notifications\")\n",
    "\n",
    "driver = webdriver.Chrome(executable_path=path,chrome_options=chrome_options)\n",
    "\n",
    "driver.get(\"https://www.facebook.com\")\n",
    "\n",
    "email = driver.find_element_by_name('email')\n",
    "email.send_keys(\"codehb01@gmail.com\")\n",
    "passwrd = driver.find_element_by_name('pass')\n",
    "passwrd.send_keys(\"Mycode00\")\n",
    "driver.find_element_by_name('login').click()\n",
    "\n",
    "time.sleep(5)\n",
    "\n",
    "driver.find_element_by_xpath(\"//div[@aria-label='Account']\").click()\n",
    "\n",
    "time.sleep(2)\n",
    "\n",
    "driver.find_element_by_xpath('//span[contains(text(),\"Log Out\")]').click()\n",
    "print (\"Boom\")\n",
    "driver.close()"
   ]
  },
  {
   "cell_type": "code",
   "execution_count": 7,
   "metadata": {},
   "outputs": [],
   "source": [
    "#TASK 2   Shopping \n",
    "\n",
    "from selenium import webdriver\n",
    "from selenium.webdriver.common.alert import Alert\n",
    "from selenium.webdriver.common.keys import Keys\n",
    "from selenium.webdriver.common.by import By\n",
    "import time\n",
    "\n",
    "driver=webdriver.Chrome('C:\\Program Files (x86)\\chromedriver.exe')\n",
    "\n",
    "driver.get(\"https://www.Saucedemo.com\")\n",
    "\n",
    "email = driver.find_element_by_name('user-name').send_keys('standard_user')\n",
    "pwd = driver.find_element_by_name('password').send_keys('secret_sauce')\n",
    "\n",
    "login = driver.find_element_by_name('login-button').click()\n",
    "\n",
    "item = driver.find_element_by_name('add-to-cart-sauce-labs-backpack').click()\n",
    "\n",
    "cart = driver.find_element_by_class_name('shopping_cart_link').click()\n",
    "\n",
    "checkout = driver.find_element_by_name('checkout').click()\n",
    "\n",
    "name = driver.find_element_by_name('firstName').send_keys('Ashish')\n",
    "lastname = driver.find_element_by_name('lastName').send_keys('Rana')\n",
    "postalcode = driver.find_element_by_name('postalCode').send_keys('201014')\n",
    "\n",
    "time.sleep(3)\n",
    "\n",
    "driver.find_element_by_name('continue').click()\n",
    "time.sleep(5)\n",
    "\n",
    "driver.find_element_by_name('finish').click()\n",
    "time.sleep(2)\n",
    "driver.find_element_by_id('react-burger-menu-btn').click()\n",
    "time.sleep(1)\n",
    "driver.find_element_by_id('logout_sidebar_link').click()\n",
    "time.sleep(2)\n",
    "driver.close()"
   ]
  },
  {
   "cell_type": "code",
   "execution_count": 2,
   "metadata": {},
   "outputs": [],
   "source": [
    "# TASK 3  upload a file to the website\n",
    "\n",
    "from selenium import webdriver\n",
    "\n",
    "\n",
    "\n",
    "driver=webdriver.Chrome('C:\\Program Files (x86)\\chromedriver.exe')\n",
    "\n",
    "driver.get(\"http://the-internet.herokuapp.com\")\n",
    "\n",
    "driver.find_element_by_xpath('//*[@id=\"content\"]/ul/li[18]/a').click()\n",
    "\n",
    "s=driver.find_element_by_id('file-upload').send_keys(\"C:\\\\Users\\\\ASUS\\\\Avengers\\\\G14_wallpaper_1920x1080.jpg\")\n",
    "\n",
    "driver.find_element_by_id('file-submit').click()\n",
    "\n"
   ]
  },
  {
   "cell_type": "code",
   "execution_count": 60,
   "metadata": {},
   "outputs": [
    {
     "output_type": "stream",
     "name": "stderr",
     "text": [
      "<ipython-input-60-86f6e8f44eeb>:16: DeprecationWarning: use options instead of chrome_options\n  driver = webdriver.Chrome(executable_path=path,chrome_options=chrome_options)\n"
     ]
    }
   ],
   "source": [
    "# download a file from the browser to specific location\n",
    "\n",
    "from selenium import webdriver\n",
    "from selenium.webdriver.chrome.options import Options\n",
    "from selenium.webdriver.common.alert import Alert\n",
    "from selenium.webdriver.common.keys import Keys\n",
    "from selenium.webdriver.common.by import By\n",
    "import time\n",
    "\n",
    "path = ('C:\\Program Files (x86)\\chromedriver.exe')\n",
    "\n",
    "chrome_options = Options()\n",
    "\n",
    "prefs = {r\"download.default_directory\" : r\"C:\\Users\\ASUS\\Documents\"}\n",
    "chrome_options.add_experimental_option('prefs', prefs)\n",
    "\n",
    "driver = webdriver.Chrome(executable_path=path,chrome_options=chrome_options)\n",
    "driver.get('http://the-internet.herokuapp.com/')\n",
    "\n",
    "driver.find_element_by_xpath('//*[@id=\"content\"]/ul/li[17]/a').click()\n",
    "\n",
    "driver.find_element_by_xpath('//*[@id=\"content\"]/div/a[1]').click()\n",
    "time.sleep(3)\n",
    "driver.close()"
   ]
  },
  {
   "cell_type": "code",
   "execution_count": 6,
   "metadata": {},
   "outputs": [],
   "source": [
    "# opening a site then switch to another\n",
    "\n",
    "from selenium import webdriver\n",
    "from selenium.webdriver.common.keys import Keys\n",
    "\n",
    "driver=webdriver.Chrome('C:\\Program Files (x86)\\chromedriver.exe')\n",
    "\n",
    "driver.get(\"http://the-internet.herokuapp.com/\")\n",
    "\n",
    "#open tab\n",
    "driver.find_element_by_tag_name('body').send_keys(Keys.COMMAND + 't') \n",
    "# You can use (Keys.CONTROL + 't') on other OSs\n",
    "\n",
    "# Load a page \n",
    "driver.get('http://easports.com/')\n",
    "# Make the tests...\n",
    "\n",
    "# close the tab\n",
    "driver.find_element_by_tag_name('body').send_keys(Keys.COMMAND + 'w') \n",
    "driver.close()\n",
    "\n"
   ]
  },
  {
   "cell_type": "code",
   "execution_count": 65,
   "metadata": {},
   "outputs": [
    {
     "output_type": "stream",
     "name": "stderr",
     "text": [
      "<ipython-input-65-cab8af5d7d71>:19: DeprecationWarning: use driver.switch_to.window instead\n  driver.switch_to_window(window_after)\n"
     ]
    }
   ],
   "source": [
    "#task 3 part 3\n",
    "\n",
    "from selenium import webdriver\n",
    "from selenium.webdriver.common.keys import Keys\n",
    "from selenium.webdriver.common.action_chains import ActionChains\n",
    "\n",
    "\n",
    "driver = webdriver.Chrome('C:\\Program Files (x86)\\chromedriver.exe')\n",
    "\n",
    "driver.get(\"http://the-internet.herokuapp.com/\")\n",
    "driver.find_element_by_xpath(\"//a[@href='/windows']\").click()\n",
    "\n",
    "window_before = driver.window_handles[0]\n",
    "\n",
    "new_windows = driver.find_element_by_xpath(\"//a[@href='/windows/new']\")\n",
    "new_windows.click()\n",
    "\n",
    "window_after = driver.window_handles[1]\n",
    "\n",
    "driver.switch_to_window(window_after)\n",
    "\n",
    "\n",
    "\n",
    "\n"
   ]
  },
  {
   "cell_type": "code",
   "execution_count": 53,
   "metadata": {},
   "outputs": [],
   "source": [
    "# TASK 4 DRAG AND DROP     error draging source to targer\n",
    "\n",
    "from selenium import webdriver\n",
    "from selenium.webdriver.common.action_chains import ActionChains\n",
    "\n",
    "\n",
    "driver = webdriver.Chrome('C:\\Program Files (x86)\\chromedriver.exe')\n",
    "                \n",
    "\n",
    "driver.get(\"http://the-internet.herokuapp.com/\")\n",
    "driver.find_element_by_xpath('//*[@id=\"content\"]/ul/li[10]/a').click()\n",
    "source = driver.find_element_by_xpath('//*[@id=\"column-a\"]')\n",
    "target = driver.find_element_by_xpath('//*[@id=\"column-b\"]')\n",
    "\n",
    "action = ActionChains(driver)\n",
    "action.drag_and_drop(source, target).perform()\n"
   ]
  },
  {
   "cell_type": "code",
   "execution_count": 52,
   "metadata": {},
   "outputs": [],
   "source": [
    "# Selecting an option\n",
    "\n",
    "from selenium import webdriver\n",
    "from selenium.webdriver.support.select import Select\n",
    "from selenium.webdriver.common.action_chains import ActionChains\n",
    "\n",
    "driver = webdriver.Chrome('C:\\Program Files (x86)\\chromedriver.exe')\n",
    "\n",
    "driver.get(\"http://the-internet.herokuapp.com/\")\n",
    "\n",
    "driver.find_element_by_xpath('//*[@id=\"content\"]/ul/li[11]/a').click()\n",
    "\n",
    "Sel = Select(driver.find_element_by_xpath('//*[@id=\"dropdown\"]'))\n",
    "\n",
    "Sel.select_by_index(2)\n"
   ]
  },
  {
   "cell_type": "code",
   "execution_count": null,
   "metadata": {},
   "outputs": [],
   "source": []
  }
 ]
}